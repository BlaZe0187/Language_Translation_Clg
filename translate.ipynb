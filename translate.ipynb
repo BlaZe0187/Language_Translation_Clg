{
 "cells": [
  {
   "cell_type": "code",
   "execution_count": 4,
   "id": "successful-richards",
   "metadata": {
    "execution": {
     "iopub.execute_input": "2021-08-11T06:21:44.040941Z",
     "iopub.status.busy": "2021-08-11T06:21:44.040108Z",
     "iopub.status.idle": "2021-08-11T06:21:51.263040Z",
     "shell.execute_reply": "2021-08-11T06:21:51.262356Z",
     "shell.execute_reply.started": "2021-05-23T05:34:16.386033Z"
    },
    "papermill": {
     "duration": 7.246539,
     "end_time": "2021-08-11T06:21:51.263209",
     "exception": false,
     "start_time": "2021-08-11T06:21:44.016670",
     "status": "completed"
    },
    "tags": []
   },
   "outputs": [],
   "source": [
    "import warnings\n",
    "warnings.filterwarnings('ignore')\n",
    "import string\n",
    "import re\n",
    "from unicodedata import normalize\n",
    "import numpy as np\n",
    "from tensorflow.keras.preprocessing.text import Tokenizer\n",
    "from keras.preprocessing.sequence import pad_sequences\n",
    "from keras.utils import to_categorical\n",
    "from keras.models import Sequential,load_model\n",
    "from keras.layers import LSTM,Dense,Embedding,RepeatVector,TimeDistributed\n",
    "from keras.callbacks import EarlyStopping\n",
    "from nltk.translate.bleu_score import corpus_bleu\n",
    "import pandas as pd\n",
    "from string import punctuation\n",
    "import matplotlib.pyplot as plt\n",
    "from IPython.display import Markdown, display\n",
    "\n",
    "def printmd(string):\n",
    "    # Print with Markdowns    \n",
    "    display(Markdown(string))"
   ]
  },
  {
   "cell_type": "code",
   "execution_count": 6,
   "id": "fiscal-importance",
   "metadata": {
    "execution": {
     "iopub.execute_input": "2021-08-11T06:21:51.304119Z",
     "iopub.status.busy": "2021-08-11T06:21:51.303418Z",
     "iopub.status.idle": "2021-08-11T06:21:51.370434Z",
     "shell.execute_reply": "2021-08-11T06:21:51.369234Z",
     "shell.execute_reply.started": "2021-05-23T05:34:23.476309Z"
    },
    "papermill": {
     "duration": 0.091686,
     "end_time": "2021-08-11T06:21:51.370604",
     "exception": false,
     "start_time": "2021-08-11T06:21:51.278918",
     "status": "completed"
    },
    "tags": []
   },
   "outputs": [
    {
     "data": {
      "text/markdown": [
       "## 10000 \"parallel sentences\" will be loaded (original sentence + its translation)"
      ],
      "text/plain": [
       "<IPython.core.display.Markdown object>"
      ]
     },
     "metadata": {},
     "output_type": "display_data"
    },
    {
     "data": {
      "text/markdown": [
       "## 9000 \"parallel sentences\" will be used to train the model"
      ],
      "text/plain": [
       "<IPython.core.display.Markdown object>"
      ]
     },
     "metadata": {},
     "output_type": "display_data"
    },
    {
     "data": {
      "text/markdown": [
       "## 1000 \"parallel sentences\" will be used to test the model"
      ],
      "text/plain": [
       "<IPython.core.display.Markdown object>"
      ]
     },
     "metadata": {},
     "output_type": "display_data"
    }
   ],
   "source": [
    "total_sentences = 10000\n",
    "\n",
    "# Load the dataset\n",
    "dataset = pd.read_csv(\"eng_-french.csv\", nrows = total_sentences)\n",
    "\n",
    "# What proportion of the sentences will be used for the test set\n",
    "test_proportion = 0.1\n",
    "train_test_threshold = int( (1-test_proportion) * total_sentences)\n",
    "\n",
    "printmd(f'## {total_sentences} \"parallel sentences\" will be loaded (original sentence + its translation)')\n",
    "printmd(f'## {train_test_threshold} \"parallel sentences\" will be used to train the model')\n",
    "printmd(f'## {total_sentences-train_test_threshold} \"parallel sentences\" will be used to test the model')"
   ]
  },
  {
   "cell_type": "code",
   "execution_count": 7,
   "id": "satisfied-williams",
   "metadata": {
    "execution": {
     "iopub.execute_input": "2021-08-11T06:21:51.415285Z",
     "iopub.status.busy": "2021-08-11T06:21:51.413881Z",
     "iopub.status.idle": "2021-08-11T06:21:51.436891Z",
     "shell.execute_reply": "2021-08-11T06:21:51.437374Z",
     "shell.execute_reply.started": "2021-05-23T05:34:23.528991Z"
    },
    "papermill": {
     "duration": 0.049222,
     "end_time": "2021-08-11T06:21:51.437555",
     "exception": false,
     "start_time": "2021-08-11T06:21:51.388333",
     "status": "completed"
    },
    "tags": []
   },
   "outputs": [
    {
     "data": {
      "text/html": [
       "<div>\n",
       "<style scoped>\n",
       "    .dataframe tbody tr th:only-of-type {\n",
       "        vertical-align: middle;\n",
       "    }\n",
       "\n",
       "    .dataframe tbody tr th {\n",
       "        vertical-align: top;\n",
       "    }\n",
       "\n",
       "    .dataframe thead th {\n",
       "        text-align: right;\n",
       "    }\n",
       "</style>\n",
       "<table border=\"1\" class=\"dataframe\">\n",
       "  <thead>\n",
       "    <tr style=\"text-align: right;\">\n",
       "      <th></th>\n",
       "      <th>English words/sentences</th>\n",
       "      <th>French words/sentences</th>\n",
       "    </tr>\n",
       "  </thead>\n",
       "  <tbody>\n",
       "    <tr>\n",
       "      <th>1554</th>\n",
       "      <td>Let me die.</td>\n",
       "      <td>Laisse-moi mourir.</td>\n",
       "    </tr>\n",
       "    <tr>\n",
       "      <th>2087</th>\n",
       "      <td>He's a slob.</td>\n",
       "      <td>C'est un flemmard.</td>\n",
       "    </tr>\n",
       "    <tr>\n",
       "      <th>5470</th>\n",
       "      <td>I have to try.</td>\n",
       "      <td>Il faut que j'essaie.</td>\n",
       "    </tr>\n",
       "    <tr>\n",
       "      <th>2363</th>\n",
       "      <td>I was naive.</td>\n",
       "      <td>Je fus crédule.</td>\n",
       "    </tr>\n",
       "    <tr>\n",
       "      <th>7570</th>\n",
       "      <td>He is bankrupt.</td>\n",
       "      <td>Il est en faillite.</td>\n",
       "    </tr>\n",
       "    <tr>\n",
       "      <th>6427</th>\n",
       "      <td>That's a fact.</td>\n",
       "      <td>C'est un fait.</td>\n",
       "    </tr>\n",
       "    <tr>\n",
       "      <th>1651</th>\n",
       "      <td>Talk to me!</td>\n",
       "      <td>Parlez-moi !</td>\n",
       "    </tr>\n",
       "    <tr>\n",
       "      <th>4164</th>\n",
       "      <td>Keep talking.</td>\n",
       "      <td>Continuez de parler.</td>\n",
       "    </tr>\n",
       "    <tr>\n",
       "      <th>1231</th>\n",
       "      <td>I broke it.</td>\n",
       "      <td>Je l'ai cassée.</td>\n",
       "    </tr>\n",
       "    <tr>\n",
       "      <th>9232</th>\n",
       "      <td>Tom is a judge.</td>\n",
       "      <td>Tom est juge.</td>\n",
       "    </tr>\n",
       "  </tbody>\n",
       "</table>\n",
       "</div>"
      ],
      "text/plain": [
       "     English words/sentences French words/sentences\n",
       "1554             Let me die.     Laisse-moi mourir.\n",
       "2087            He's a slob.     C'est un flemmard.\n",
       "5470          I have to try.  Il faut que j'essaie.\n",
       "2363            I was naive.        Je fus crédule.\n",
       "7570         He is bankrupt.    Il est en faillite.\n",
       "6427          That's a fact.         C'est un fait.\n",
       "1651             Talk to me!           Parlez-moi !\n",
       "4164           Keep talking.   Continuez de parler.\n",
       "1231             I broke it.        Je l'ai cassée.\n",
       "9232         Tom is a judge.          Tom est juge."
      ]
     },
     "execution_count": 7,
     "metadata": {},
     "output_type": "execute_result"
    }
   ],
   "source": [
    "# Shuffle the dataset\n",
    "dataset = dataset.sample(frac=1, random_state=0)\n",
    "dataset.iloc[1000:1010]"
   ]
  },
  {
   "cell_type": "code",
   "execution_count": 8,
   "id": "expanded-encyclopedia",
   "metadata": {
    "execution": {
     "iopub.execute_input": "2021-08-11T06:21:51.474757Z",
     "iopub.status.busy": "2021-08-11T06:21:51.474101Z",
     "iopub.status.idle": "2021-08-11T06:21:51.713117Z",
     "shell.execute_reply": "2021-08-11T06:21:51.713637Z",
     "shell.execute_reply.started": "2021-05-23T05:34:23.553789Z"
    },
    "papermill": {
     "duration": 0.259836,
     "end_time": "2021-08-11T06:21:51.713836",
     "exception": false,
     "start_time": "2021-08-11T06:21:51.454000",
     "status": "completed"
    },
    "tags": []
   },
   "outputs": [],
   "source": [
    "def clean(string):\n",
    "    # Clean the string\n",
    "    string = string.replace(\"\\u202f\",\" \") # Replace no-break space with space\n",
    "    string = string.lower()\n",
    "    \n",
    "    # Delete the punctuation and the numbers\n",
    "    for p in punctuation + \"«»\" + \"0123456789\":\n",
    "        string = string.replace(p,\" \")\n",
    "        \n",
    "    string = re.sub('\\s+',' ', string)\n",
    "    string = string.strip()\n",
    "           \n",
    "    return string\n",
    "\n",
    "# Clean the sentences\n",
    "dataset[\"English words/sentences\"] = dataset[\"English words/sentences\"].apply(lambda x: clean(x))\n",
    "dataset[\"French words/sentences\"] = dataset[\"French words/sentences\"].apply(lambda x: clean(x))\n",
    "\n",
    "# Select one part of the dataset\n",
    "dataset = dataset.values\n",
    "dataset = dataset[:total_sentences]\n",
    "\n",
    "# split into train/test\n",
    "train, test = dataset[:train_test_threshold], dataset[train_test_threshold:]\n",
    "\n",
    "# Define the name of the source and of the target\n",
    "# This will be used in the outputs of this notebook\n",
    "source_str, target_str = \"French\", \"English\"\n",
    "\n",
    "# The index in the numpy array of the source and of the target\n",
    "idx_src, idx_tar = 1, 0"
   ]
  },
  {
   "cell_type": "code",
   "execution_count": 9,
   "id": "documented-decrease",
   "metadata": {
    "execution": {
     "iopub.execute_input": "2021-08-11T06:21:51.750518Z",
     "iopub.status.busy": "2021-08-11T06:21:51.749885Z",
     "iopub.status.idle": "2021-08-11T06:21:51.760503Z",
     "shell.execute_reply": "2021-08-11T06:21:51.759842Z",
     "shell.execute_reply.started": "2021-05-23T05:34:23.760106Z"
    },
    "papermill": {
     "duration": 0.030459,
     "end_time": "2021-08-11T06:21:51.760665",
     "exception": false,
     "start_time": "2021-08-11T06:21:51.730206",
     "status": "completed"
    },
    "tags": []
   },
   "outputs": [
    {
     "data": {
      "text/html": [
       "<div>\n",
       "<style scoped>\n",
       "    .dataframe tbody tr th:only-of-type {\n",
       "        vertical-align: middle;\n",
       "    }\n",
       "\n",
       "    .dataframe tbody tr th {\n",
       "        vertical-align: top;\n",
       "    }\n",
       "\n",
       "    .dataframe thead th {\n",
       "        text-align: right;\n",
       "    }\n",
       "</style>\n",
       "<table border=\"1\" class=\"dataframe\">\n",
       "  <thead>\n",
       "    <tr style=\"text-align: right;\">\n",
       "      <th></th>\n",
       "      <th>0</th>\n",
       "      <th>1</th>\n",
       "    </tr>\n",
       "  </thead>\n",
       "  <tbody>\n",
       "    <tr>\n",
       "      <th>0</th>\n",
       "      <td>let me die</td>\n",
       "      <td>laisse moi mourir</td>\n",
       "    </tr>\n",
       "    <tr>\n",
       "      <th>1</th>\n",
       "      <td>he s a slob</td>\n",
       "      <td>c est un flemmard</td>\n",
       "    </tr>\n",
       "    <tr>\n",
       "      <th>2</th>\n",
       "      <td>i have to try</td>\n",
       "      <td>il faut que j essaie</td>\n",
       "    </tr>\n",
       "    <tr>\n",
       "      <th>3</th>\n",
       "      <td>i was naive</td>\n",
       "      <td>je fus crédule</td>\n",
       "    </tr>\n",
       "    <tr>\n",
       "      <th>4</th>\n",
       "      <td>he is bankrupt</td>\n",
       "      <td>il est en faillite</td>\n",
       "    </tr>\n",
       "    <tr>\n",
       "      <th>5</th>\n",
       "      <td>that s a fact</td>\n",
       "      <td>c est un fait</td>\n",
       "    </tr>\n",
       "    <tr>\n",
       "      <th>6</th>\n",
       "      <td>talk to me</td>\n",
       "      <td>parlez moi</td>\n",
       "    </tr>\n",
       "    <tr>\n",
       "      <th>7</th>\n",
       "      <td>keep talking</td>\n",
       "      <td>continuez de parler</td>\n",
       "    </tr>\n",
       "    <tr>\n",
       "      <th>8</th>\n",
       "      <td>i broke it</td>\n",
       "      <td>je l ai cassée</td>\n",
       "    </tr>\n",
       "    <tr>\n",
       "      <th>9</th>\n",
       "      <td>tom is a judge</td>\n",
       "      <td>tom est juge</td>\n",
       "    </tr>\n",
       "  </tbody>\n",
       "</table>\n",
       "</div>"
      ],
      "text/plain": [
       "                0                     1\n",
       "0      let me die     laisse moi mourir\n",
       "1     he s a slob     c est un flemmard\n",
       "2   i have to try  il faut que j essaie\n",
       "3     i was naive        je fus crédule\n",
       "4  he is bankrupt    il est en faillite\n",
       "5   that s a fact         c est un fait\n",
       "6      talk to me            parlez moi\n",
       "7    keep talking   continuez de parler\n",
       "8      i broke it        je l ai cassée\n",
       "9  tom is a judge          tom est juge"
      ]
     },
     "execution_count": 9,
     "metadata": {},
     "output_type": "execute_result"
    }
   ],
   "source": [
    "# Display the result after cleaning\n",
    "pd.DataFrame(dataset[1000:1010])"
   ]
  },
  {
   "cell_type": "code",
   "execution_count": 10,
   "id": "received-trout",
   "metadata": {
    "execution": {
     "iopub.execute_input": "2021-08-11T06:21:51.825121Z",
     "iopub.status.busy": "2021-08-11T06:21:51.819963Z",
     "iopub.status.idle": "2021-08-11T06:21:52.966784Z",
     "shell.execute_reply": "2021-08-11T06:21:52.966087Z",
     "shell.execute_reply.started": "2021-05-23T05:34:23.77138Z"
    },
    "papermill": {
     "duration": 1.188374,
     "end_time": "2021-08-11T06:21:52.966925",
     "exception": false,
     "start_time": "2021-08-11T06:21:51.778551",
     "status": "completed"
    },
    "tags": []
   },
   "outputs": [
    {
     "data": {
      "text/markdown": [
       "\n",
       "Target (English) Vocabulary Size: 2099"
      ],
      "text/plain": [
       "<IPython.core.display.Markdown object>"
      ]
     },
     "metadata": {},
     "output_type": "display_data"
    },
    {
     "data": {
      "text/markdown": [
       "Target (English) Max Length: 5"
      ],
      "text/plain": [
       "<IPython.core.display.Markdown object>"
      ]
     },
     "metadata": {},
     "output_type": "display_data"
    },
    {
     "data": {
      "text/markdown": [
       "\n",
       "Source (French) Vocabulary Size: 4039"
      ],
      "text/plain": [
       "<IPython.core.display.Markdown object>"
      ]
     },
     "metadata": {},
     "output_type": "display_data"
    },
    {
     "data": {
      "text/markdown": [
       "Source (French) Max Length: 12\n"
      ],
      "text/plain": [
       "<IPython.core.display.Markdown object>"
      ]
     },
     "metadata": {},
     "output_type": "display_data"
    }
   ],
   "source": [
    "def create_tokenizer(lines):\n",
    "    # fit a tokenizer\n",
    "    tokenizer = Tokenizer()\n",
    "    tokenizer.fit_on_texts(lines)\n",
    "    return tokenizer\n",
    " \n",
    "def max_len(lines):\n",
    "    # max sentence length\n",
    "    return max(len(line.split()) for line in lines)\n",
    "\n",
    "def encode_sequences(tokenizer, length, lines):\n",
    "    # encode and pad sequences\n",
    "    X = tokenizer.texts_to_sequences(lines) # integer encode sequences\n",
    "    X = pad_sequences(X, maxlen=length, padding='post') # pad sequences with 0 values\n",
    "    return X\n",
    " \n",
    "def encode_output(sequences, vocab_size):\n",
    "    # one hot encode target sequence\n",
    "    ylist = list()\n",
    "    for sequence in sequences:\n",
    "        encoded = to_categorical(sequence, num_classes=vocab_size)\n",
    "        ylist.append(encoded)\n",
    "    y = np.array(ylist)\n",
    "    y = y.reshape(sequences.shape[0], sequences.shape[1], vocab_size)\n",
    "    return y\n",
    " \n",
    "# Prepare target tokenizer\n",
    "tar_tokenizer = create_tokenizer(dataset[:, idx_tar])\n",
    "tar_vocab_size = len(tar_tokenizer.word_index) + 1\n",
    "tar_length = max_len(dataset[:, idx_tar])\n",
    "printmd(f'\\nTarget ({target_str}) Vocabulary Size: {tar_vocab_size}')\n",
    "printmd(f'Target ({target_str}) Max Length: {tar_length}')\n",
    "\n",
    "# Prepare source tokenizer\n",
    "src_tokenizer = create_tokenizer(dataset[:, idx_src])\n",
    "src_vocab_size = len(src_tokenizer.word_index) + 1\n",
    "src_length = max_len(dataset[:, idx_src])\n",
    "printmd(f'\\nSource ({source_str}) Vocabulary Size: {src_vocab_size}')\n",
    "printmd(f'Source ({source_str}) Max Length: {src_length}\\n')\n",
    " \n",
    "# Prepare training data\n",
    "trainX = encode_sequences(src_tokenizer, src_length, train[:, idx_src])\n",
    "trainY = encode_sequences(tar_tokenizer, tar_length, train[:, idx_tar])\n",
    "trainY = encode_output(trainY, tar_vocab_size)\n",
    "\n",
    "# Prepare test data\n",
    "testX = encode_sequences(src_tokenizer, src_length, test[:, idx_src])\n",
    "testY = encode_sequences(tar_tokenizer, tar_length, test[:, idx_tar])\n",
    "testY = encode_output(testY, tar_vocab_size)"
   ]
  },
  {
   "cell_type": "code",
   "execution_count": 15,
   "id": "handy-mauritius",
   "metadata": {
    "_kg_hide-output": true,
    "execution": {
     "iopub.execute_input": "2021-08-11T06:21:53.050114Z",
     "iopub.status.busy": "2021-08-11T06:21:53.049399Z",
     "iopub.status.idle": "2021-08-11T06:32:52.136282Z",
     "shell.execute_reply": "2021-08-11T06:32:52.135705Z",
     "shell.execute_reply.started": "2021-05-23T05:34:24.712386Z"
    },
    "papermill": {
     "duration": 659.113664,
     "end_time": "2021-08-11T06:32:52.136437",
     "exception": false,
     "start_time": "2021-08-11T06:21:53.022773",
     "status": "completed"
    },
    "tags": []
   },
   "outputs": [
    {
     "name": "stdout",
     "output_type": "stream",
     "text": [
      "Epoch 1/200\n",
      "\u001b[1m127/127\u001b[0m \u001b[32m━━━━━━━━━━━━━━━━━━━━\u001b[0m\u001b[37m\u001b[0m \u001b[1m9s\u001b[0m 48ms/step - loss: 5.3546 - val_loss: 3.5567\n",
      "Epoch 2/200\n",
      "\u001b[1m127/127\u001b[0m \u001b[32m━━━━━━━━━━━━━━━━━━━━\u001b[0m\u001b[37m\u001b[0m \u001b[1m7s\u001b[0m 52ms/step - loss: 3.3591 - val_loss: 3.3275\n",
      "Epoch 3/200\n",
      "\u001b[1m127/127\u001b[0m \u001b[32m━━━━━━━━━━━━━━━━━━━━\u001b[0m\u001b[37m\u001b[0m \u001b[1m7s\u001b[0m 55ms/step - loss: 3.1254 - val_loss: 3.1209\n",
      "Epoch 4/200\n",
      "\u001b[1m127/127\u001b[0m \u001b[32m━━━━━━━━━━━━━━━━━━━━\u001b[0m\u001b[37m\u001b[0m \u001b[1m9s\u001b[0m 68ms/step - loss: 2.9187 - val_loss: 2.9950\n",
      "Epoch 5/200\n",
      "\u001b[1m127/127\u001b[0m \u001b[32m━━━━━━━━━━━━━━━━━━━━\u001b[0m\u001b[37m\u001b[0m \u001b[1m10s\u001b[0m 77ms/step - loss: 2.7760 - val_loss: 2.9061\n",
      "Epoch 6/200\n",
      "\u001b[1m127/127\u001b[0m \u001b[32m━━━━━━━━━━━━━━━━━━━━\u001b[0m\u001b[37m\u001b[0m \u001b[1m8s\u001b[0m 64ms/step - loss: 2.6320 - val_loss: 2.7920\n",
      "Epoch 7/200\n",
      "\u001b[1m127/127\u001b[0m \u001b[32m━━━━━━━━━━━━━━━━━━━━\u001b[0m\u001b[37m\u001b[0m \u001b[1m7s\u001b[0m 53ms/step - loss: 2.4970 - val_loss: 2.7012\n",
      "Epoch 8/200\n",
      "\u001b[1m127/127\u001b[0m \u001b[32m━━━━━━━━━━━━━━━━━━━━\u001b[0m\u001b[37m\u001b[0m \u001b[1m7s\u001b[0m 52ms/step - loss: 2.3637 - val_loss: 2.5964\n",
      "Epoch 9/200\n",
      "\u001b[1m127/127\u001b[0m \u001b[32m━━━━━━━━━━━━━━━━━━━━\u001b[0m\u001b[37m\u001b[0m \u001b[1m7s\u001b[0m 52ms/step - loss: 2.2317 - val_loss: 2.5055\n",
      "Epoch 10/200\n",
      "\u001b[1m127/127\u001b[0m \u001b[32m━━━━━━━━━━━━━━━━━━━━\u001b[0m\u001b[37m\u001b[0m \u001b[1m6s\u001b[0m 50ms/step - loss: 2.0999 - val_loss: 2.3964\n",
      "Epoch 11/200\n",
      "\u001b[1m127/127\u001b[0m \u001b[32m━━━━━━━━━━━━━━━━━━━━\u001b[0m\u001b[37m\u001b[0m \u001b[1m6s\u001b[0m 50ms/step - loss: 1.9447 - val_loss: 2.3127\n",
      "Epoch 12/200\n",
      "\u001b[1m127/127\u001b[0m \u001b[32m━━━━━━━━━━━━━━━━━━━━\u001b[0m\u001b[37m\u001b[0m \u001b[1m6s\u001b[0m 50ms/step - loss: 1.8279 - val_loss: 2.2417\n",
      "Epoch 13/200\n",
      "\u001b[1m127/127\u001b[0m \u001b[32m━━━━━━━━━━━━━━━━━━━━\u001b[0m\u001b[37m\u001b[0m \u001b[1m6s\u001b[0m 50ms/step - loss: 1.7152 - val_loss: 2.1804\n",
      "Epoch 14/200\n",
      "\u001b[1m127/127\u001b[0m \u001b[32m━━━━━━━━━━━━━━━━━━━━\u001b[0m\u001b[37m\u001b[0m \u001b[1m6s\u001b[0m 51ms/step - loss: 1.6129 - val_loss: 2.1358\n",
      "Epoch 15/200\n",
      "\u001b[1m127/127\u001b[0m \u001b[32m━━━━━━━━━━━━━━━━━━━━\u001b[0m\u001b[37m\u001b[0m \u001b[1m6s\u001b[0m 50ms/step - loss: 1.5039 - val_loss: 2.0834\n",
      "Epoch 16/200\n",
      "\u001b[1m127/127\u001b[0m \u001b[32m━━━━━━━━━━━━━━━━━━━━\u001b[0m\u001b[37m\u001b[0m \u001b[1m6s\u001b[0m 50ms/step - loss: 1.4151 - val_loss: 2.0501\n",
      "Epoch 17/200\n",
      "\u001b[1m127/127\u001b[0m \u001b[32m━━━━━━━━━━━━━━━━━━━━\u001b[0m\u001b[37m\u001b[0m \u001b[1m7s\u001b[0m 53ms/step - loss: 1.3144 - val_loss: 2.0121\n",
      "Epoch 18/200\n",
      "\u001b[1m127/127\u001b[0m \u001b[32m━━━━━━━━━━━━━━━━━━━━\u001b[0m\u001b[37m\u001b[0m \u001b[1m7s\u001b[0m 52ms/step - loss: 1.2286 - val_loss: 1.9706\n",
      "Epoch 19/200\n",
      "\u001b[1m127/127\u001b[0m \u001b[32m━━━━━━━━━━━━━━━━━━━━\u001b[0m\u001b[37m\u001b[0m \u001b[1m7s\u001b[0m 55ms/step - loss: 1.1487 - val_loss: 1.9533\n",
      "Epoch 20/200\n",
      "\u001b[1m127/127\u001b[0m \u001b[32m━━━━━━━━━━━━━━━━━━━━\u001b[0m\u001b[37m\u001b[0m \u001b[1m7s\u001b[0m 54ms/step - loss: 1.0732 - val_loss: 1.9269\n",
      "Epoch 21/200\n",
      "\u001b[1m127/127\u001b[0m \u001b[32m━━━━━━━━━━━━━━━━━━━━\u001b[0m\u001b[37m\u001b[0m \u001b[1m7s\u001b[0m 53ms/step - loss: 0.9964 - val_loss: 1.8825\n",
      "Epoch 22/200\n",
      "\u001b[1m127/127\u001b[0m \u001b[32m━━━━━━━━━━━━━━━━━━━━\u001b[0m\u001b[37m\u001b[0m \u001b[1m7s\u001b[0m 52ms/step - loss: 0.9179 - val_loss: 1.8624\n",
      "Epoch 23/200\n",
      "\u001b[1m127/127\u001b[0m \u001b[32m━━━━━━━━━━━━━━━━━━━━\u001b[0m\u001b[37m\u001b[0m \u001b[1m6s\u001b[0m 49ms/step - loss: 0.8435 - val_loss: 1.8349\n",
      "Epoch 24/200\n",
      "\u001b[1m127/127\u001b[0m \u001b[32m━━━━━━━━━━━━━━━━━━━━\u001b[0m\u001b[37m\u001b[0m \u001b[1m7s\u001b[0m 54ms/step - loss: 0.7792 - val_loss: 1.8212\n",
      "Epoch 25/200\n",
      "\u001b[1m127/127\u001b[0m \u001b[32m━━━━━━━━━━━━━━━━━━━━\u001b[0m\u001b[37m\u001b[0m \u001b[1m8s\u001b[0m 59ms/step - loss: 0.7095 - val_loss: 1.7932\n",
      "Epoch 26/200\n",
      "\u001b[1m127/127\u001b[0m \u001b[32m━━━━━━━━━━━━━━━━━━━━\u001b[0m\u001b[37m\u001b[0m \u001b[1m6s\u001b[0m 50ms/step - loss: 0.6685 - val_loss: 1.7740\n",
      "Epoch 27/200\n",
      "\u001b[1m127/127\u001b[0m \u001b[32m━━━━━━━━━━━━━━━━━━━━\u001b[0m\u001b[37m\u001b[0m \u001b[1m7s\u001b[0m 56ms/step - loss: 0.6196 - val_loss: 1.7684\n",
      "Epoch 28/200\n",
      "\u001b[1m127/127\u001b[0m \u001b[32m━━━━━━━━━━━━━━━━━━━━\u001b[0m\u001b[37m\u001b[0m \u001b[1m8s\u001b[0m 66ms/step - loss: 0.5613 - val_loss: 1.7456\n",
      "Epoch 29/200\n",
      "\u001b[1m127/127\u001b[0m \u001b[32m━━━━━━━━━━━━━━━━━━━━\u001b[0m\u001b[37m\u001b[0m \u001b[1m8s\u001b[0m 64ms/step - loss: 0.5107 - val_loss: 1.7448\n",
      "Epoch 30/200\n",
      "\u001b[1m127/127\u001b[0m \u001b[32m━━━━━━━━━━━━━━━━━━━━\u001b[0m\u001b[37m\u001b[0m \u001b[1m8s\u001b[0m 64ms/step - loss: 0.4678 - val_loss: 1.7438\n",
      "Epoch 31/200\n",
      "\u001b[1m127/127\u001b[0m \u001b[32m━━━━━━━━━━━━━━━━━━━━\u001b[0m\u001b[37m\u001b[0m \u001b[1m8s\u001b[0m 60ms/step - loss: 0.4351 - val_loss: 1.7286\n",
      "Epoch 32/200\n",
      "\u001b[1m127/127\u001b[0m \u001b[32m━━━━━━━━━━━━━━━━━━━━\u001b[0m\u001b[37m\u001b[0m \u001b[1m8s\u001b[0m 62ms/step - loss: 0.3900 - val_loss: 1.7309\n",
      "Epoch 33/200\n",
      "\u001b[1m127/127\u001b[0m \u001b[32m━━━━━━━━━━━━━━━━━━━━\u001b[0m\u001b[37m\u001b[0m \u001b[1m7s\u001b[0m 58ms/step - loss: 0.3558 - val_loss: 1.7227\n",
      "Epoch 34/200\n",
      "\u001b[1m127/127\u001b[0m \u001b[32m━━━━━━━━━━━━━━━━━━━━\u001b[0m\u001b[37m\u001b[0m \u001b[1m8s\u001b[0m 61ms/step - loss: 0.3309 - val_loss: 1.7139\n",
      "Epoch 35/200\n",
      "\u001b[1m127/127\u001b[0m \u001b[32m━━━━━━━━━━━━━━━━━━━━\u001b[0m\u001b[37m\u001b[0m \u001b[1m8s\u001b[0m 61ms/step - loss: 0.2954 - val_loss: 1.7392\n",
      "Epoch 36/200\n",
      "\u001b[1m127/127\u001b[0m \u001b[32m━━━━━━━━━━━━━━━━━━━━\u001b[0m\u001b[37m\u001b[0m \u001b[1m8s\u001b[0m 63ms/step - loss: 0.2805 - val_loss: 1.7366\n",
      "Epoch 37/200\n",
      "\u001b[1m127/127\u001b[0m \u001b[32m━━━━━━━━━━━━━━━━━━━━\u001b[0m\u001b[37m\u001b[0m \u001b[1m8s\u001b[0m 64ms/step - loss: 0.2510 - val_loss: 1.7300\n",
      "Epoch 38/200\n",
      "\u001b[1m127/127\u001b[0m \u001b[32m━━━━━━━━━━━━━━━━━━━━\u001b[0m\u001b[37m\u001b[0m \u001b[1m8s\u001b[0m 65ms/step - loss: 0.2345 - val_loss: 1.7407\n",
      "Epoch 39/200\n",
      "\u001b[1m127/127\u001b[0m \u001b[32m━━━━━━━━━━━━━━━━━━━━\u001b[0m\u001b[37m\u001b[0m \u001b[1m8s\u001b[0m 60ms/step - loss: 0.2132 - val_loss: 1.7436\n",
      "Epoch 40/200\n",
      "\u001b[1m127/127\u001b[0m \u001b[32m━━━━━━━━━━━━━━━━━━━━\u001b[0m\u001b[37m\u001b[0m \u001b[1m7s\u001b[0m 57ms/step - loss: 0.1988 - val_loss: 1.7498\n",
      "Epoch 41/200\n",
      "\u001b[1m127/127\u001b[0m \u001b[32m━━━━━━━━━━━━━━━━━━━━\u001b[0m\u001b[37m\u001b[0m \u001b[1m8s\u001b[0m 61ms/step - loss: 0.1804 - val_loss: 1.7413\n",
      "Epoch 42/200\n",
      "\u001b[1m127/127\u001b[0m \u001b[32m━━━━━━━━━━━━━━━━━━━━\u001b[0m\u001b[37m\u001b[0m \u001b[1m7s\u001b[0m 59ms/step - loss: 0.1685 - val_loss: 1.7466\n",
      "Epoch 43/200\n",
      "\u001b[1m127/127\u001b[0m \u001b[32m━━━━━━━━━━━━━━━━━━━━\u001b[0m\u001b[37m\u001b[0m \u001b[1m7s\u001b[0m 56ms/step - loss: 0.1596 - val_loss: 1.7705\n",
      "Epoch 44/200\n",
      "\u001b[1m127/127\u001b[0m \u001b[32m━━━━━━━━━━━━━━━━━━━━\u001b[0m\u001b[37m\u001b[0m \u001b[1m8s\u001b[0m 62ms/step - loss: 0.1464 - val_loss: 1.7841\n"
     ]
    }
   ],
   "source": [
    "def create_model(src_vocab, tar_vocab, src_timesteps, tar_timesteps, n_units):\n",
    "    # Create the model\n",
    "    model = Sequential()\n",
    "    model.add(Embedding(src_vocab, n_units, input_shape=src_timesteps, mask_zero=True))\n",
    "    model.add(LSTM(n_units))\n",
    "    model.add(RepeatVector(tar_timesteps))\n",
    "    model.add(LSTM(n_units, return_sequences=True))\n",
    "    model.add(TimeDistributed(Dense(tar_vocab, activation='softmax')))\n",
    "    return model\n",
    " \n",
    "# Create model\n",
    "model = create_model(src_vocab_size, tar_vocab_size, (12,), tar_length, 256)\n",
    "model.compile(optimizer='adam', loss='categorical_crossentropy')\n",
    "\n",
    "history = model.fit(trainX, \n",
    "          trainY, \n",
    "          epochs=200, \n",
    "          batch_size=64, \n",
    "          validation_split=0.1, \n",
    "          verbose=1,\n",
    "          callbacks=[\n",
    "                        EarlyStopping(\n",
    "                        monitor='val_loss',\n",
    "                        patience=10,\n",
    "                        restore_best_weights=True\n",
    "                    )\n",
    "            ])"
   ]
  },
  {
   "cell_type": "code",
   "execution_count": 16,
   "id": "smoking-measure",
   "metadata": {
    "execution": {
     "iopub.execute_input": "2021-08-11T06:32:55.683158Z",
     "iopub.status.busy": "2021-08-11T06:32:55.682515Z",
     "iopub.status.idle": "2021-08-11T06:32:55.878976Z",
     "shell.execute_reply": "2021-08-11T06:32:55.878454Z",
     "shell.execute_reply.started": "2021-05-23T05:36:27.387359Z"
    },
    "papermill": {
     "duration": 1.952093,
     "end_time": "2021-08-11T06:32:55.879123",
     "exception": false,
     "start_time": "2021-08-11T06:32:53.927030",
     "status": "completed"
    },
    "tags": []
   },
   "outputs": [
    {
     "data": {
      "image/png": "[encoded data removed]",
      "text/plain": [
       "<Figure size 640x480 with 1 Axes>"
      ]
     },
     "metadata": {},
     "output_type": "display_data"
    }
   ],
   "source": [
    "pd.DataFrame(history.history).plot()\n",
    "plt.title(\"Loss\")\n",
    "plt.show()"
   ]
  },
  {
   "cell_type": "code",
   "execution_count": 17,
   "id": "phantom-hudson",
   "metadata": {
    "execution": {
     "iopub.execute_input": "2021-08-11T06:33:02.949476Z",
     "iopub.status.busy": "2021-08-11T06:33:02.948845Z",
     "iopub.status.idle": "2021-08-11T06:33:06.006484Z",
     "shell.execute_reply": "2021-08-11T06:33:06.005624Z",
     "shell.execute_reply.started": "2021-05-23T05:36:27.561967Z"
    },
    "papermill": {
     "duration": 4.806178,
     "end_time": "2021-08-11T06:33:06.006684",
     "exception": false,
     "start_time": "2021-08-11T06:33:01.200506",
     "status": "completed"
    },
    "tags": []
   },
   "outputs": [
    {
     "name": "stdout",
     "output_type": "stream",
     "text": [
      "### Result on the Training Set ###\n",
      "FRENCH (SOURCE)                ENGLISH (TARGET)          AUTOMATIC TRANSLATION IN ENGLISH\n",
      "\n",
      "nous en savons assez           we know enough            we know enough\n",
      "garde ton sang froid           stay calm                 keep calm\n",
      "je ne pleurerai pas            i won t cry               i won t cry\n",
      "je ne suis pas contente        i m not happy             i m not happy\n",
      "moi je veux ça                 i want that               i want that\n",
      "j étais tellement heureuse     i was so happy            i was so happy\n",
      "j aime le printemps            i like spring             i like spring\n",
      "c est mon garçon               that s my boy             that s my dog\n",
      "mille mercis                   many thanks               thanks a bunch\n",
      "quelle horreur                 how horrible              how horrible\n",
      "soyez satisfaites              be content                be content\n",
      "toi décide                     you decide                you decide\n",
      "je m en suis remis             i recovered               i recovered\n",
      "ce sont les affaires           it s business             it s business\n",
      "je dois m en aller             i need to go              i have to go\n",
      "sommes nous prêtes             are we ready              are we ready\n",
      "arrêtez de crier               stop shouting             stop shouting\n",
      "je lis souvent                 i often read              i often travel\n",
      "les plantes croissent          plants grow               plants grow\n",
      "il m a fallu le faire          i had to do it            i had to it it\n",
      "nous éclatâmes de rire         we broke up               we broke up\n",
      "\n",
      "\n",
      "### Result on the Test Set ###\n",
      "FRENCH (SOURCE)                ENGLISH (TARGET)          AUTOMATIC TRANSLATION IN ENGLISH\n",
      "\n",
      "ils ont abandonné              they gave up              they gave up\n",
      "rappelle moi                   call me back              help me\n",
      "je veux essayer                i want to try             i want to try\n",
      "ça fonctionne bien             it works well             it works good\n",
      "grimpe dans la camionnette     get in the van            get in the van\n",
      "je suis mince                  i m thin                  i m strict\n",
      "elle semble riche              she seems rich            she is rich\n",
      "ça me gave                     this annoys me            it know me\n",
      "c était long                   it was long               beat\n",
      "c était un mensonge            it was a lie              that was a lie\n",
      "conduis toi en homme           act like a man            get on my\n",
      "laissez moi m en occuper       leave it to me            let me me\n",
      "puis je manger ceci            may i eat this            can i see this\n",
      "devine                         make a guess              let me\n",
      "je ne suis pas jolie           i m not pretty            i m not safe\n",
      "demande à quiconque            ask anyone                come bragging\n",
      "venez nous rejoindre           come join us              come us\n",
      "vous ennuyez vous              are you bored             you you call\n",
      "je ne viendrai pas             i won t come              i don t gossip\n",
      "c est un voleur                he is a thief             it s a doll\n",
      "bien joué                      well done                 good job\n"
     ]
    }
   ],
   "source": [
    "def word_for_id(integer, tokenizer):\n",
    "    # map an integer to a word\n",
    "    for word, index in tokenizer.word_index.items():\n",
    "        if index == integer:\n",
    "            return word\n",
    "    return None\n",
    " \n",
    "def predict_seq(model, tokenizer, source):\n",
    "    # generate target from a source sequence\n",
    "    prediction = model.predict(source, verbose=0)[0]\n",
    "    integers = [np.argmax(vector) for vector in prediction]\n",
    "    target = list()\n",
    "    for i in integers:\n",
    "        word = word_for_id(i, tokenizer)\n",
    "        if word is None:\n",
    "            break\n",
    "        target.append(word)\n",
    "    return ' '.join(target)\n",
    "\n",
    "def compare_prediction(model, tokenizer, sources, raw_dataset, limit=20):\n",
    "    # evaluate a model\n",
    "    actual, predicted = [], []\n",
    "    src = f'{source_str.upper()} (SOURCE)'\n",
    "    tgt = f'{target_str.upper()} (TARGET)'\n",
    "    pred = f'AUTOMATIC TRANSLATION IN {target_str.upper()}'\n",
    "    print(f'{src:30} {tgt:25} {pred}\\n')\n",
    "    \n",
    "    for i, source in enumerate(sources): # translate encoded source text\n",
    "        source = source.reshape((1, source.shape[0]))\n",
    "        translation = predict_seq(model, tar_tokenizer, source)\n",
    "        raw_target, raw_src = raw_dataset[i]\n",
    "        print(f'{raw_src:30} {raw_target:25} {translation}')\n",
    "        if i >= limit: # Display some of the result\n",
    "            break\n",
    " \n",
    "# test on some training sequences\n",
    "print('### Result on the Training Set ###')\n",
    "compare_prediction(model, tar_tokenizer, trainX, train)\n",
    "\n",
    "# test on some test sequences\n",
    "print('\\n\\n### Result on the Test Set ###')\n",
    "compare_prediction(model, tar_tokenizer, testX, test)"
   ]
  },
  {
   "cell_type": "code",
   "execution_count": 18,
   "id": "unnecessary-dylan",
   "metadata": {
    "execution": {
     "iopub.execute_input": "2021-08-11T06:33:13.098650Z",
     "iopub.status.busy": "2021-08-11T06:33:13.096350Z",
     "iopub.status.idle": "2021-08-11T06:40:04.352691Z",
     "shell.execute_reply": "2021-08-11T06:40:04.352105Z",
     "shell.execute_reply.started": "2021-05-23T05:36:30.164805Z"
    },
    "papermill": {
     "duration": 413.019147,
     "end_time": "2021-08-11T06:40:04.352861",
     "exception": false,
     "start_time": "2021-08-11T06:33:11.333714",
     "status": "completed"
    },
    "tags": []
   },
   "outputs": [],
   "source": [
    "# It takes long to compute the BLEU Score\n",
    "\n",
    "def bleu_score(model, tokenizer, sources, raw_dataset):\n",
    "    # Get the bleu score of a model\n",
    "    actual, predicted = [], []\n",
    "    for i, source in enumerate(sources):\n",
    "        # translate encoded source text\n",
    "        source = source.reshape((1, source.shape[0]))\n",
    "        translation = predict_seq(model, tar_tokenizer, source)\n",
    "        raw_target, raw_src = raw_dataset[i]\n",
    "        actual.append([raw_target.split()])\n",
    "        predicted.append(translation.split())\n",
    "        \n",
    "    bleu_dic = {}\n",
    "    bleu_dic['1-grams'] = corpus_bleu(actual, predicted, weights=(1.0, 0, 0, 0))\n",
    "    bleu_dic['1-2-grams'] = corpus_bleu(actual, predicted, weights=(0.5, 0.5, 0, 0))\n",
    "    bleu_dic['1-3-grams'] = corpus_bleu(actual, predicted, weights=(0.3, 0.3, 0.3, 0))\n",
    "    bleu_dic['1-4-grams'] = corpus_bleu(actual, predicted, weights=(0.25, 0.25, 0.25, 0.25))\n",
    "    \n",
    "    return bleu_dic\n",
    "\n",
    "# Compute the BLEU Score\n",
    "bleu_train = bleu_score(model, tar_tokenizer, trainX, train)\n",
    "bleu_test = bleu_score(model, tar_tokenizer, testX, test)"
   ]
  },
  {
   "cell_type": "code",
   "execution_count": 19,
   "id": "suitable-collector",
   "metadata": {
    "execution": {
     "iopub.execute_input": "2021-08-11T06:40:07.870935Z",
     "iopub.status.busy": "2021-08-11T06:40:07.869921Z",
     "iopub.status.idle": "2021-08-11T06:40:07.990446Z",
     "shell.execute_reply": "2021-08-11T06:40:07.989909Z",
     "shell.execute_reply.started": "2021-05-23T05:42:15.182252Z"
    },
    "papermill": {
     "duration": 1.898543,
     "end_time": "2021-08-11T06:40:07.990582",
     "exception": false,
     "start_time": "2021-08-11T06:40:06.092039",
     "status": "completed"
    },
    "tags": []
   },
   "outputs": [
    {
     "data": {
      "image/png": "[encoded data removed]",
      "text/plain": [
       "<Figure size 640x480 with 1 Axes>"
      ]
     },
     "metadata": {},
     "output_type": "display_data"
    }
   ],
   "source": [
    "plt.bar(x = bleu_train.keys(), height = bleu_train.values())\n",
    "plt.title(\"BLEU Score with the training set\")\n",
    "plt.ylim((0,1))\n",
    "plt.show()"
   ]
  },
  {
   "cell_type": "code",
   "execution_count": 20,
   "id": "hearing-ranch",
   "metadata": {
    "execution": {
     "iopub.execute_input": "2021-08-11T06:40:11.602034Z",
     "iopub.status.busy": "2021-08-11T06:40:11.601006Z",
     "iopub.status.idle": "2021-08-11T06:40:11.679350Z",
     "shell.execute_reply": "2021-08-11T06:40:11.678746Z",
     "shell.execute_reply.started": "2021-05-23T05:42:15.299091Z"
    },
    "papermill": {
     "duration": 1.877932,
     "end_time": "2021-08-11T06:40:11.679484",
     "exception": false,
     "start_time": "2021-08-11T06:40:09.801552",
     "status": "completed"
    },
    "tags": []
   },
   "outputs": [
    {
     "data": {
      "image/png": "[encoded data removed]",
      "text/plain": [
       "<Figure size 640x480 with 1 Axes>"
      ]
     },
     "metadata": {},
     "output_type": "display_data"
    }
   ],
   "source": [
    "plt.bar(x = bleu_test.keys(), height = bleu_test.values())\n",
    "plt.title(\"BLEU Score with the test set\")\n",
    "plt.ylim((0,1))\n",
    "plt.show()"
   ]
  }
 ],
 "metadata": {
  "kernelspec": {
   "display_name": "Python 3",
   "language": "python",
   "name": "python3"
  },
  "language_info": {
   "codemirror_mode": {
    "name": "ipython",
    "version": 3
   },
   "file_extension": ".py",
   "mimetype": "text/x-python",
   "name": "python",
   "nbconvert_exporter": "python",
   "pygments_lexer": "ipython3",
   "version": "3.11.0"
  },
  "papermill": {
   "default_parameters": {},
   "duration": 1117.227259,
   "end_time": "2021-08-11T06:40:14.964021",
   "environment_variables": {},
   "exception": null,
   "input_path": "__notebook__.ipynb",
   "output_path": "__notebook__.ipynb",
   "parameters": {},
   "start_time": "2021-08-11T06:21:37.736762",
   "version": "2.3.2"
  }
 },
 "nbformat": 4,
 "nbformat_minor": 5
}
